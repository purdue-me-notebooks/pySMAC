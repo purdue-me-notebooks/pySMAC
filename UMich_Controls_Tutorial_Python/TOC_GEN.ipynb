{
 "cells": [
  {
   "cell_type": "code",
   "execution_count": 16,
   "metadata": {},
   "outputs": [],
   "source": [
    "import glob\n",
    "import urllib\n",
    "import os\n",
    "from IPython.display import display_markdown\n",
    "notebooks = glob.glob(\"*.ipynb\")\n",
    "notebooks.sort()\n",
    "cfg = {\n",
    "    \"gh_user\": \"purdue-me-notebooks\",\n",
    "    \"gh_proj\": \"pySMAC\",\n",
    "    \"gh_branch\": \"master\",\n",
    "    \"base\": \"UMich_Controls_Tutorial_Python\",\n",
    "}\n",
    "url_fmt = \"https://mybinder.org/v2/gh/{gh_user}/{gh_proj}/{gh_branch}?=\"\n",
    "table = list()\n",
    "table.append([\"\", \"\", \"Notebook\", \"Jupyter Lab\", \"\"])\n",
    "table.append([\"\", \"---\", \"---\", \"---\", \"\"])\n",
    "for notebook in notebooks:\n",
    "    url = url_fmt.format(**cfg)+urllib.parse.urlencode({\"filepath\": os.path.join(cfg[\"base\"], notebook)})\n",
    "    table.append([\n",
    "        \"\",\n",
    "        f\"[{os.path.splitext(notebook)[0]}](os.path.splitext(notebook))\",\n",
    "        f\"[![Binder](https://mybinder.org/badge_logo.svg)]({url})\",\n",
    "        f\"[![Binder](https://mybinder.org/badge_logo.svg)]({url}&urlpath=lab)\",\n",
    "    \"\"])\n",
    "\n",
    "header = \"\"\"# UMich Controls Tutorials in Python\n",
    "\n",
    "[Control Tutorials for MATLAB & Simulink](http://ctms.engin.umich.edu/CTMS/index.php?aux=Home), re-created with Python where available.\n",
    "\n",
    "## Notebook Table of Contents\n",
    "\n",
    "Follow the links on the left to launch the notebooks on Binder in either a Jupyter Notebook or Jupyter Lab interface\n",
    "\n",
    "\"\"\"\n",
    "\n",
    "md_rows = [\"|\".join(row) for row in table] \n",
    "md = \"\\n\".join(md_rows)\n",
    "with open(\"TableOfContents.md\", \"wt\") as fid:\n",
    "    fid.write(header)\n",
    "    fid.write(md)"
   ]
  }
 ],
 "metadata": {
  "kernelspec": {
   "display_name": "Python 3",
   "language": "python",
   "name": "python3"
  },
  "language_info": {
   "codemirror_mode": {
    "name": "ipython",
    "version": 3
   },
   "file_extension": ".py",
   "mimetype": "text/x-python",
   "name": "python",
   "nbconvert_exporter": "python",
   "pygments_lexer": "ipython3",
   "version": "3.8.0"
  }
 },
 "nbformat": 4,
 "nbformat_minor": 4
}
